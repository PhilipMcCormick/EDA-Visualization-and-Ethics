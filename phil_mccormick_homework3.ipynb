{
  "nbformat": 4,
  "nbformat_minor": 0,
  "metadata": {
    "colab": {
      "name": "phil_mccormick_homework3",
      "provenance": []
    },
    "kernelspec": {
      "name": "python3",
      "display_name": "Python 3"
    }
  },
  "cells": [
    {
      "cell_type": "markdown",
      "metadata": {
        "id": "sbV99ABnXX5N"
      },
      "source": [
        "# Homework 3 (100 points)\n",
        "## Due: Tuesday, Sept 21 @ 6:30 PM \n",
        "\n",
        "**The very first thing you should do is save your own copy of this Homework by clicking on File -> \"Save a copy in Drive\"**\n",
        "\n",
        "This homework is divided into 2 sections which each perform different tasks on the initial data provided.  Read the data description below carefully to understand the data, then work on each section.\n",
        "\n",
        "When you complete this assignment, **please submit 1 file and 1 link via Canvas before the deadline.**\n",
        "\n",
        "1.   Your Jupyter Notebook code as a .ipynb file (File -> \"Download .ipynb\")\n",
        "2.   As a comment on your .ipynb submission please include a link to your Google CoLab Jupyter notebook. Click the \"Share\" button in the top right.  Ensure that anyone with the link has at least \"Commenter\" access. **Once you submit your HW on Canvas, please do not make any more edits to the Jupyter notebook until after your HW is graded**\n",
        "\n",
        "Please use the naming convention:  \n",
        "\n",
        "**firstname_lastname_homework3.ipynb**\n",
        "\n",
        "**Until both steps 1 and 2 have been completed, your assignment is considered INCOMPLETE and you will receive -10% per day late until the assignment is completed.**\n"
      ]
    },
    {
      "cell_type": "markdown",
      "metadata": {
        "id": "XBto1iw5XphZ"
      },
      "source": [
        "## Data Description\n",
        "\n",
        "The dataset used for this homework is a historical dataset on the modern Olympic Games, including all the Games from Athens 1896 to Rio 2016.\n",
        "\n",
        "**Each row corresponds to an individual athlete competing in an individual Olympic event (athlete-events).**\n",
        "\n",
        "Kaggle page for data: https://www.kaggle.com/heesoo37/120-years-of-olympic-history-athletes-and-results\n",
        "\n",
        "You can find the file in Canvas as `athlete_events.csv`\n"
      ]
    },
    {
      "cell_type": "markdown",
      "metadata": {
        "id": "c3ljYDsLWAN4"
      },
      "source": [
        "## Section 1: What does peak performance look like?\n",
        "**Total 30 points**\n",
        "\n",
        "Olympians are world-class athletes, but peak performance body types and ages can differ drastically depending on the sport/event.  Let's analyze this by specifically looking at those athletes that **won medals** as a proxy for peak performance.\n"
      ]
    },
    {
      "cell_type": "markdown",
      "metadata": {
        "id": "JIFJ7tKiW14D"
      },
      "source": [
        "### Part 1: Data Prep\n",
        "\n",
        "**10 points**\n",
        "\n",
        "Using the original dataframe loaded from the CSV, create a new dataframe `medalists` with the following characteristics\n",
        "\n",
        "\n",
        "*   Data is filtered to only the rows that have `\"Gold\", \"Silver\", or \"Bronze\"` in `Medals`.\n",
        "*   Any rows that have NA or NaN are dropped using `dropna()`. \n",
        "\n",
        "*Note: With the steps above, your new dataframe `medalists` should have 30,181 rows*\n",
        "\n",
        "\n",
        "\n",
        "\n",
        "\n"
      ]
    },
    {
      "cell_type": "code",
      "metadata": {
        "colab": {
          "base_uri": "https://localhost:8080/"
        },
        "id": "8SWF4MHq76e_",
        "outputId": "3d306747-56ca-469f-87dc-91a43c47c8eb"
      },
      "source": [
        "\n",
        "from google.colab import drive\n",
        "drive.mount('/content/drive')"
      ],
      "execution_count": 5,
      "outputs": [
        {
          "output_type": "stream",
          "name": "stdout",
          "text": [
            "Drive already mounted at /content/drive; to attempt to forcibly remount, call drive.mount(\"/content/drive\", force_remount=True).\n"
          ]
        }
      ]
    },
    {
      "cell_type": "code",
      "metadata": {
        "id": "pXXn3dyqbUlC"
      },
      "source": [
        "# Write your code below\n",
        "import pandas as pd\n",
        "olympics = pd.read_csv('/content/drive/MyDrive/Data/athlete_events.csv')\n",
        "olympics.head()"
      ],
      "execution_count": null,
      "outputs": []
    },
    {
      "cell_type": "code",
      "metadata": {
        "id": "vXVCOo1L9I04"
      },
      "source": [
        "#\"Medal\", inplace=True\n",
        "medalists = olympics.dropna()\n",
        "medalists"
      ],
      "execution_count": null,
      "outputs": []
    },
    {
      "cell_type": "markdown",
      "metadata": {
        "id": "z3W7N8zotZ8u"
      },
      "source": [
        "### Part 2: Heights and Weights by Event\n",
        "**5 points each (total 20 points)**\n",
        "\n",
        "Using `medalists`, answer the below questions by aggregating the column of interest by `Event` and sorting the result values.\n",
        "\n",
        "\n",
        "1.   Which **Event** has the **smallest** average **height** for **female medalists**? What is it?\n",
        "2.   Which **Event** has the **highest** average **age** for **female medalists**? What is it?\n",
        "3.   Which **Event** has the **highest** average **weight** for **male medalists**? What is it?\n",
        "4.   Which **Event** has the **highest** average **height** for **male medalists**? What is it?\n",
        "\n",
        "Note: You can use `.reset_index(inplace=True)` on your dataframe to convert all multi-indexes to normal columns, which are easier to work with.  \n",
        "\n"
      ]
    },
    {
      "cell_type": "code",
      "metadata": {
        "colab": {
          "base_uri": "https://localhost:8080/",
          "height": 97
        },
        "id": "WUX2_XAk_Xjo",
        "outputId": "d77b1a4a-4fd8-46c8-cac8-4c1af5248043"
      },
      "source": [
        "print('1. Which Event has the smallest average height for female medalists? What is it?')\n",
        "small_height_female = medalists.groupby(by=['Event', 'Sex'])['Height'].mean()\n",
        "small_height_female = small_height_female.reset_index()\n",
        "small_height_female[(small_height_female.Sex == 'F')].sort_values(by='Height', ascending=True).head(1)\n"
      ],
      "execution_count": 8,
      "outputs": [
        {
          "output_type": "stream",
          "name": "stdout",
          "text": [
            "1. Which Event has the smallest average height for female medalists? What is it?\n"
          ]
        },
        {
          "output_type": "execute_result",
          "data": {
            "text/html": [
              "<div>\n",
              "<style scoped>\n",
              "    .dataframe tbody tr th:only-of-type {\n",
              "        vertical-align: middle;\n",
              "    }\n",
              "\n",
              "    .dataframe tbody tr th {\n",
              "        vertical-align: top;\n",
              "    }\n",
              "\n",
              "    .dataframe thead th {\n",
              "        text-align: right;\n",
              "    }\n",
              "</style>\n",
              "<table border=\"1\" class=\"dataframe\">\n",
              "  <thead>\n",
              "    <tr style=\"text-align: right;\">\n",
              "      <th></th>\n",
              "      <th>Event</th>\n",
              "      <th>Sex</th>\n",
              "      <th>Height</th>\n",
              "    </tr>\n",
              "  </thead>\n",
              "  <tbody>\n",
              "    <tr>\n",
              "      <th>543</th>\n",
              "      <td>Weightlifting Women's Flyweight</td>\n",
              "      <td>F</td>\n",
              "      <td>149.866667</td>\n",
              "    </tr>\n",
              "  </tbody>\n",
              "</table>\n",
              "</div>"
            ],
            "text/plain": [
              "                               Event Sex      Height\n",
              "543  Weightlifting Women's Flyweight   F  149.866667"
            ]
          },
          "metadata": {},
          "execution_count": 8
        }
      ]
    },
    {
      "cell_type": "code",
      "metadata": {
        "colab": {
          "base_uri": "https://localhost:8080/",
          "height": 97
        },
        "id": "BXfRzqrdDDyK",
        "outputId": "43498cbf-4657-43a6-efd9-f1201d6f2cf4"
      },
      "source": [
        "print('2. Which Event has the highest average age for female medalists? What is it?')\n",
        "highest_age_female = medalists.groupby(['Event', 'Sex'])['Age'].mean()\n",
        "highest_age_female = highest_age_female.reset_index()\n",
        "highest_age_female[(highest_age_female.Sex == 'F')].sort_values(by='Age', ascending=False).head(1)\n"
      ],
      "execution_count": 9,
      "outputs": [
        {
          "output_type": "stream",
          "name": "stdout",
          "text": [
            "2. Which Event has the highest average age for female medalists? What is it?\n"
          ]
        },
        {
          "output_type": "execute_result",
          "data": {
            "text/html": [
              "<div>\n",
              "<style scoped>\n",
              "    .dataframe tbody tr th:only-of-type {\n",
              "        vertical-align: middle;\n",
              "    }\n",
              "\n",
              "    .dataframe tbody tr th {\n",
              "        vertical-align: top;\n",
              "    }\n",
              "\n",
              "    .dataframe thead th {\n",
              "        text-align: right;\n",
              "    }\n",
              "</style>\n",
              "<table border=\"1\" class=\"dataframe\">\n",
              "  <thead>\n",
              "    <tr style=\"text-align: right;\">\n",
              "      <th></th>\n",
              "      <th>Event</th>\n",
              "      <th>Sex</th>\n",
              "      <th>Age</th>\n",
              "    </tr>\n",
              "  </thead>\n",
              "  <tbody>\n",
              "    <tr>\n",
              "      <th>237</th>\n",
              "      <td>Equestrianism Mixed Dressage, Team</td>\n",
              "      <td>F</td>\n",
              "      <td>35.1875</td>\n",
              "    </tr>\n",
              "  </tbody>\n",
              "</table>\n",
              "</div>"
            ],
            "text/plain": [
              "                                  Event Sex      Age\n",
              "237  Equestrianism Mixed Dressage, Team   F  35.1875"
            ]
          },
          "metadata": {},
          "execution_count": 9
        }
      ]
    },
    {
      "cell_type": "code",
      "metadata": {
        "colab": {
          "base_uri": "https://localhost:8080/",
          "height": 97
        },
        "id": "3DAFD41hG82A",
        "outputId": "6b2b406a-7031-4c00-d767-2267bec2a14b"
      },
      "source": [
        "print('3. Which Event has the highest average weight for male medalists? What is it?')\n",
        "high_weight_male = medalists.groupby(['Event', 'Sex'])['Weight'].mean()\n",
        "high_weight_male = high_weight_male.reset_index()\n",
        "high_weight_male[(high_weight_male.Sex == 'M')].sort_values(by='Weight', ascending=False).head(1)\n"
      ],
      "execution_count": 10,
      "outputs": [
        {
          "output_type": "stream",
          "name": "stdout",
          "text": [
            "3. Which Event has the highest average weight for male medalists? What is it?\n"
          ]
        },
        {
          "output_type": "execute_result",
          "data": {
            "text/html": [
              "<div>\n",
              "<style scoped>\n",
              "    .dataframe tbody tr th:only-of-type {\n",
              "        vertical-align: middle;\n",
              "    }\n",
              "\n",
              "    .dataframe tbody tr th {\n",
              "        vertical-align: top;\n",
              "    }\n",
              "\n",
              "    .dataframe thead th {\n",
              "        text-align: right;\n",
              "    }\n",
              "</style>\n",
              "<table border=\"1\" class=\"dataframe\">\n",
              "  <thead>\n",
              "    <tr style=\"text-align: right;\">\n",
              "      <th></th>\n",
              "      <th>Event</th>\n",
              "      <th>Sex</th>\n",
              "      <th>Weight</th>\n",
              "    </tr>\n",
              "  </thead>\n",
              "  <tbody>\n",
              "    <tr>\n",
              "      <th>539</th>\n",
              "      <td>Weightlifting Men's Super-Heavyweight</td>\n",
              "      <td>M</td>\n",
              "      <td>139.542857</td>\n",
              "    </tr>\n",
              "  </tbody>\n",
              "</table>\n",
              "</div>"
            ],
            "text/plain": [
              "                                     Event Sex      Weight\n",
              "539  Weightlifting Men's Super-Heavyweight   M  139.542857"
            ]
          },
          "metadata": {},
          "execution_count": 10
        }
      ]
    },
    {
      "cell_type": "code",
      "metadata": {
        "colab": {
          "base_uri": "https://localhost:8080/",
          "height": 97
        },
        "id": "Xw-m2wqhJ7Er",
        "outputId": "ffcac658-dc55-4b1f-a042-3add8f6227a5"
      },
      "source": [
        "print('4. Which Event has the highest average height for male medalists? What is it?')\n",
        "high_height_male = medalists.groupby(['Event', 'Sex'])['Height'].mean()\n",
        "high_height_male = high_height_male.reset_index()\n",
        "high_height_male[(high_height_male.Sex == 'M')].sort_values(by='Height', ascending=False).head(1)"
      ],
      "execution_count": 11,
      "outputs": [
        {
          "output_type": "stream",
          "name": "stdout",
          "text": [
            "4. Which Event has the highest average height for male medalists? What is it?\n"
          ]
        },
        {
          "output_type": "execute_result",
          "data": {
            "text/html": [
              "<div>\n",
              "<style scoped>\n",
              "    .dataframe tbody tr th:only-of-type {\n",
              "        vertical-align: middle;\n",
              "    }\n",
              "\n",
              "    .dataframe tbody tr th {\n",
              "        vertical-align: top;\n",
              "    }\n",
              "\n",
              "    .dataframe thead th {\n",
              "        text-align: right;\n",
              "    }\n",
              "</style>\n",
              "<table border=\"1\" class=\"dataframe\">\n",
              "  <thead>\n",
              "    <tr style=\"text-align: right;\">\n",
              "      <th></th>\n",
              "      <th>Event</th>\n",
              "      <th>Sex</th>\n",
              "      <th>Height</th>\n",
              "    </tr>\n",
              "  </thead>\n",
              "  <tbody>\n",
              "    <tr>\n",
              "      <th>105</th>\n",
              "      <td>Basketball Men's Basketball</td>\n",
              "      <td>M</td>\n",
              "      <td>197.996721</td>\n",
              "    </tr>\n",
              "  </tbody>\n",
              "</table>\n",
              "</div>"
            ],
            "text/plain": [
              "                           Event Sex      Height\n",
              "105  Basketball Men's Basketball   M  197.996721"
            ]
          },
          "metadata": {},
          "execution_count": 11
        }
      ]
    },
    {
      "cell_type": "markdown",
      "metadata": {
        "id": "PUgthZHcaiuP"
      },
      "source": [
        "### Challenge (Not required for points)\n",
        "\n",
        "Use `seaborn` to plot how these biometrics have changed over the past 100 years in various sports (see last part of lecture).  In other words, create a visual that shows, for example, how the average height has changed for a given Olympic Event (like Gymnastics) over time."
      ]
    },
    {
      "cell_type": "code",
      "metadata": {
        "id": "uW89kaR72NhY"
      },
      "source": [
        "# Challenge code"
      ],
      "execution_count": 12,
      "outputs": []
    },
    {
      "cell_type": "markdown",
      "metadata": {
        "id": "BSl1lkIz3XU_"
      },
      "source": [
        "## Section 2: Winter vs Summer\n",
        "**70 points total**\n",
        "\n",
        "Let's try to answer the question:\n",
        "\n",
        "*Which countries perform better in the Winter Olympics as compared to the Summer Olympics?*\n",
        "\n",
        "To do this, we will take the following general steps:\n",
        "\n",
        "\n",
        "*   Create a metric to evaluate Olympic performance\n",
        "*   Calculate that metric for every country and season (Summer/Winter)\n",
        "*   For a given country, compare the relative contribution to the metric from the Summer Olympics vs the Winter Olympics\n",
        "*   Rank them by highest relative performance in the Winter Olympics\n",
        "\n"
      ]
    },
    {
      "cell_type": "markdown",
      "metadata": {
        "id": "Y_oEbOni4BXT"
      },
      "source": [
        "### Part 1: Filter Data and Fill NA\n",
        "**5 point each (total 10 points)**\n",
        "\n",
        "1.   The Winter Olympics have only been around since 1924 while the Summer Olympics started in 1896.  Let's filter this dataframe to `Year >= 1924` so that we have an even playing field within which to compare Winter performance to Summer performance.\n",
        "2.   The `Medal` column contains many `NaN` values.  Use `fillna` to substitute these values with `\"None\"` (i.e. the string \"None\") instead.\n"
      ]
    },
    {
      "cell_type": "code",
      "metadata": {
        "id": "zw6ba3mzKuqi"
      },
      "source": [
        "# Write code below\n",
        "olympics\n",
        "olympics.Medal.fillna('None', inplace=True)\n",
        "filter_out = olympics['Year'] >=1924\n",
        "olympics_season = olympics[filter_out]\n",
        "olympics_season"
      ],
      "execution_count": null,
      "outputs": []
    },
    {
      "cell_type": "markdown",
      "metadata": {
        "id": "laVFsKMKKyLc"
      },
      "source": [
        "### Part 2: Calculate Weighted Medal Points\n",
        "**5 points for the function, 5 points for the transformation, 5 points for adding the column (15 points total)**\n",
        "\n",
        "When evaluating country performance in the Olympics, we don't want to count Gold medals as equivalent to Silver/Bronze medals.  Let's assign \"Medal Points\" to each tier of Olympic medal as follows:\n",
        "\n",
        "*   Gold:  3 points\n",
        "*   Silver: 2 points\n",
        "*   Bronze: 1 point\n",
        "*   No medal: 0 points\n",
        "\n",
        "Write a function `medal_to_points` to transform and create a new column called `MedalPoints`.  `medal_to_points` will accept a string (possible values are `\"Gold\"`, `\"Silver\"`, `\"Bronze\"`, `\"None\"`) and returns the appropriate number of points as an integer.\n",
        "\n",
        "Then add a new column `MedalPoints` to your dataframe using `transform` and the newly defined function `medal_to_points`"
      ]
    },
    {
      "cell_type": "code",
      "metadata": {
        "id": "4hPbmDqDKxYp"
      },
      "source": [
        "# Define medal_to_points below\n",
        "def medal_to_points(medal):\n",
        "  if (medal) == 'Gold':\n",
        "    point = 3\n",
        "  if (medal) == 'Silver':\n",
        "    point = 2\n",
        "  if (medal) == 'Bronze':\n",
        "    point = 1\n",
        "  if (medal) == 'None':\n",
        "    point = 0        \n",
        "  return point    \n",
        "    # Insert logic to convert medal to point value\n",
        "    # Return the converted point value\n",
        "olympics_season['MedalPoints'] = olympics_season.Medal.transform(medal_to_points)\n",
        "olympics_season.head()\n"
      ],
      "execution_count": null,
      "outputs": []
    },
    {
      "cell_type": "code",
      "metadata": {
        "id": "jkMzMLabNoVs"
      },
      "source": [
        "# Write code to add new column MedalPoints to your dataframe"
      ],
      "execution_count": 15,
      "outputs": []
    },
    {
      "cell_type": "markdown",
      "metadata": {
        "id": "DqjRwITCN3cy"
      },
      "source": [
        "### Part 3: Aggregate MedalPoints\n",
        "**15 points**\n",
        "\n",
        "We need to figure out how each country (NOC) performed in the Summer, and how each country performed in the winter.  Now that we have created the performance metric `MedalPoints`, we need to aggregate to figure out how many `MedalPoints` each country earned in each season (Summer and Winter).\n",
        "\n",
        "1.   Using `NOC` for country and `Season` for season, determine the total number of `MedalPoints` that each country earned in each season (Summer vs Winter)\n",
        "2.   Store the results of the above in a new dataframe\n",
        "\n"
      ]
    },
    {
      "cell_type": "code",
      "metadata": {
        "id": "he3Cco-3Og2K",
        "colab": {
          "base_uri": "https://localhost:8080/",
          "height": 204
        },
        "outputId": "bee852cf-cc00-4394-e6f4-75aff3f66756"
      },
      "source": [
        "# Write your code below\n",
        "olympics_NOC = olympics_season.groupby(['NOC', 'Season'], as_index=False).MedalPoints.sum()\n",
        "olympics_NOC.head()"
      ],
      "execution_count": 54,
      "outputs": [
        {
          "output_type": "execute_result",
          "data": {
            "text/html": [
              "<div>\n",
              "<style scoped>\n",
              "    .dataframe tbody tr th:only-of-type {\n",
              "        vertical-align: middle;\n",
              "    }\n",
              "\n",
              "    .dataframe tbody tr th {\n",
              "        vertical-align: top;\n",
              "    }\n",
              "\n",
              "    .dataframe thead th {\n",
              "        text-align: right;\n",
              "    }\n",
              "</style>\n",
              "<table border=\"1\" class=\"dataframe\">\n",
              "  <thead>\n",
              "    <tr style=\"text-align: right;\">\n",
              "      <th></th>\n",
              "      <th>NOC</th>\n",
              "      <th>Season</th>\n",
              "      <th>MedalPoints</th>\n",
              "    </tr>\n",
              "  </thead>\n",
              "  <tbody>\n",
              "    <tr>\n",
              "      <th>0</th>\n",
              "      <td>AFG</td>\n",
              "      <td>Summer</td>\n",
              "      <td>2</td>\n",
              "    </tr>\n",
              "    <tr>\n",
              "      <th>1</th>\n",
              "      <td>ALG</td>\n",
              "      <td>Summer</td>\n",
              "      <td>29</td>\n",
              "    </tr>\n",
              "    <tr>\n",
              "      <th>2</th>\n",
              "      <td>ARG</td>\n",
              "      <td>Summer</td>\n",
              "      <td>434</td>\n",
              "    </tr>\n",
              "    <tr>\n",
              "      <th>3</th>\n",
              "      <td>ARM</td>\n",
              "      <td>Summer</td>\n",
              "      <td>24</td>\n",
              "    </tr>\n",
              "    <tr>\n",
              "      <th>4</th>\n",
              "      <td>AUS</td>\n",
              "      <td>Summer</td>\n",
              "      <td>2221</td>\n",
              "    </tr>\n",
              "  </tbody>\n",
              "</table>\n",
              "</div>"
            ],
            "text/plain": [
              "   NOC  Season  MedalPoints\n",
              "0  AFG  Summer            2\n",
              "1  ALG  Summer           29\n",
              "2  ARG  Summer          434\n",
              "3  ARM  Summer           24\n",
              "4  AUS  Summer         2221"
            ]
          },
          "metadata": {},
          "execution_count": 54
        }
      ]
    },
    {
      "cell_type": "markdown",
      "metadata": {
        "id": "lONv1Jj2OjKA"
      },
      "source": [
        "### Part 4: Calculate the % of Medal Pts earned in each Season for each Country\n",
        "**15 points**\n",
        "\n",
        "To determine which countries perform better in Winter as compared to Summer, let's rank them by the % of Medal Points earned in the Winter.  In order to do this, we need to calculate a % of total medal points earned by season (Summer vs Winter).\n",
        "\n",
        "Using a function (can be a lambda function), create a new column `PctWinterMedalPoints` in the data frame by transforming `Medal Points`. **Note: if stuck here, see lecture and lecture notes where we did a similar transformation** \n",
        " \n",
        "\n"
      ]
    },
    {
      "cell_type": "code",
      "metadata": {
        "id": "mhsNQC31SwRe",
        "colab": {
          "base_uri": "https://localhost:8080/",
          "height": 204
        },
        "outputId": "b30a08a0-e99a-4368-d827-6b368f02de25"
      },
      "source": [
        "# Write your code below\n",
        "olympics_NOC.fillna(0, inplace=True)\n",
        "olympics_NOC['PctWinterMedalPoints']=olympics_NOC.groupby('Season')['MedalPoints'].transform(lambda x: x/x.sum())\n",
        "olympics_NOC.head()"
      ],
      "execution_count": 63,
      "outputs": [
        {
          "output_type": "execute_result",
          "data": {
            "text/html": [
              "<div>\n",
              "<style scoped>\n",
              "    .dataframe tbody tr th:only-of-type {\n",
              "        vertical-align: middle;\n",
              "    }\n",
              "\n",
              "    .dataframe tbody tr th {\n",
              "        vertical-align: top;\n",
              "    }\n",
              "\n",
              "    .dataframe thead th {\n",
              "        text-align: right;\n",
              "    }\n",
              "</style>\n",
              "<table border=\"1\" class=\"dataframe\">\n",
              "  <thead>\n",
              "    <tr style=\"text-align: right;\">\n",
              "      <th></th>\n",
              "      <th>NOC</th>\n",
              "      <th>Season</th>\n",
              "      <th>MedalPoints</th>\n",
              "      <th>PctWinterMedalPoints</th>\n",
              "    </tr>\n",
              "  </thead>\n",
              "  <tbody>\n",
              "    <tr>\n",
              "      <th>0</th>\n",
              "      <td>AFG</td>\n",
              "      <td>Summer</td>\n",
              "      <td>2</td>\n",
              "      <td>0.000041</td>\n",
              "    </tr>\n",
              "    <tr>\n",
              "      <th>1</th>\n",
              "      <td>ALG</td>\n",
              "      <td>Summer</td>\n",
              "      <td>29</td>\n",
              "      <td>0.000589</td>\n",
              "    </tr>\n",
              "    <tr>\n",
              "      <th>2</th>\n",
              "      <td>ARG</td>\n",
              "      <td>Summer</td>\n",
              "      <td>434</td>\n",
              "      <td>0.008811</td>\n",
              "    </tr>\n",
              "    <tr>\n",
              "      <th>3</th>\n",
              "      <td>ARM</td>\n",
              "      <td>Summer</td>\n",
              "      <td>24</td>\n",
              "      <td>0.000487</td>\n",
              "    </tr>\n",
              "    <tr>\n",
              "      <th>4</th>\n",
              "      <td>AUS</td>\n",
              "      <td>Summer</td>\n",
              "      <td>2221</td>\n",
              "      <td>0.045089</td>\n",
              "    </tr>\n",
              "  </tbody>\n",
              "</table>\n",
              "</div>"
            ],
            "text/plain": [
              "   NOC  Season  MedalPoints  PctWinterMedalPoints\n",
              "0  AFG  Summer            2              0.000041\n",
              "1  ALG  Summer           29              0.000589\n",
              "2  ARG  Summer          434              0.008811\n",
              "3  ARM  Summer           24              0.000487\n",
              "4  AUS  Summer         2221              0.045089"
            ]
          },
          "metadata": {},
          "execution_count": 63
        }
      ]
    },
    {
      "cell_type": "markdown",
      "metadata": {
        "id": "3aN1xyKZRcBz"
      },
      "source": [
        "### Part 5: Report Results\n",
        "**15 points**\n",
        "\n",
        "For countries **earning at least 100 MedalPoints in the Winter Olympics**, list the top 3 countries that earned the highest % of their Medal Points in the Winter Olympics.  Also list the percentage of Medal Points earned and total number of Medal Points earned in the Winter Olympics."
      ]
    },
    {
      "cell_type": "code",
      "metadata": {
        "id": "0xLfKkc1Syi7",
        "colab": {
          "base_uri": "https://localhost:8080/",
          "height": 176
        },
        "outputId": "fc476117-9c8a-47bd-a3cf-cb1d679b9307"
      },
      "source": [
        "# Write your code below\n",
        "top_winter = olympics_NOC[olympics_NOC.Season=='Winter'][olympics_NOC.MedalPoints>=100].sort_values('PctWinterMedalPoints', ascending=False).head(3)\n",
        "top_winter.head()"
      ],
      "execution_count": 62,
      "outputs": [
        {
          "output_type": "stream",
          "name": "stderr",
          "text": [
            "/usr/local/lib/python3.7/dist-packages/ipykernel_launcher.py:2: UserWarning: Boolean Series key will be reindexed to match DataFrame index.\n",
            "  \n"
          ]
        },
        {
          "output_type": "execute_result",
          "data": {
            "text/html": [
              "<div>\n",
              "<style scoped>\n",
              "    .dataframe tbody tr th:only-of-type {\n",
              "        vertical-align: middle;\n",
              "    }\n",
              "\n",
              "    .dataframe tbody tr th {\n",
              "        vertical-align: top;\n",
              "    }\n",
              "\n",
              "    .dataframe thead th {\n",
              "        text-align: right;\n",
              "    }\n",
              "</style>\n",
              "<table border=\"1\" class=\"dataframe\">\n",
              "  <thead>\n",
              "    <tr style=\"text-align: right;\">\n",
              "      <th></th>\n",
              "      <th>NOC</th>\n",
              "      <th>Season</th>\n",
              "      <th>MedalPoints</th>\n",
              "      <th>PctWinterMedalPoints</th>\n",
              "    </tr>\n",
              "  </thead>\n",
              "  <tbody>\n",
              "    <tr>\n",
              "      <th>23</th>\n",
              "      <td>CAN</td>\n",
              "      <td>Winter</td>\n",
              "      <td>1197</td>\n",
              "      <td>0.123110</td>\n",
              "    </tr>\n",
              "    <tr>\n",
              "      <th>175</th>\n",
              "      <td>USA</td>\n",
              "      <td>Winter</td>\n",
              "      <td>1022</td>\n",
              "      <td>0.105112</td>\n",
              "    </tr>\n",
              "    <tr>\n",
              "      <th>172</th>\n",
              "      <td>URS</td>\n",
              "      <td>Winter</td>\n",
              "      <td>913</td>\n",
              "      <td>0.093901</td>\n",
              "    </tr>\n",
              "  </tbody>\n",
              "</table>\n",
              "</div>"
            ],
            "text/plain": [
              "     NOC  Season  MedalPoints  PctWinterMedalPoints\n",
              "23   CAN  Winter         1197              0.123110\n",
              "175  USA  Winter         1022              0.105112\n",
              "172  URS  Winter          913              0.093901"
            ]
          },
          "metadata": {},
          "execution_count": 62
        }
      ]
    }
  ]
}