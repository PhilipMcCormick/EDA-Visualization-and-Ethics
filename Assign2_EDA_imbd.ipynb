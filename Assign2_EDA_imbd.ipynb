{
  "nbformat": 4,
  "nbformat_minor": 0,
  "metadata": {
    "colab": {
      "name": "phil_mccormick_hw2",
      "provenance": []
    },
    "kernelspec": {
      "name": "python3",
      "display_name": "Python 3"
    }
  },
  "cells": [
    {
      "cell_type": "markdown",
      "metadata": {
        "id": "sbV99ABnXX5N"
      },
      "source": [
        "# Homework 2 (100 points)\n",
        "## Due: Tuesday, Sept 14 @ 6:30 PM \n",
        "\n",
        "**The very first thing you should do is save your own copy of this Homework by clicking on File -> \"Save a copy in Drive\"**\n",
        "\n",
        "This homework is divided into 4 sections which all perform different tasks on the initial data provided.  Read the data description below carefully to understand the data, then work on each section.\n",
        "\n",
        "When you complete this assignment, **please submit 1 file and 1 link via Canvas before the deadline.**\n",
        "\n",
        "\n",
        "1.   Your Jupyter Notebook code as a .py file (File -> \"Download .py\")\n",
        "2.   As a comment on your .py submission please include a link to your Google CoLab Jupyter notebook. Click the \"Share\" button in the top right.  Ensure that anyone with the link has at least \"Commenter\" access. **Once you submit your HW on Canvas, please do not make any more edits to the Jupyter notebook until after your HW is graded**\n",
        "\n",
        "Please use the naming convention:  \n",
        "\n",
        "**firstname_lastname_homework2.py**\n"
      ]
    },
    {
      "cell_type": "markdown",
      "metadata": {
        "id": "XBto1iw5XphZ"
      },
      "source": [
        "## Data Description\n",
        "\n",
        "This dataset consists of tv shows and movies available on Netflix as of 2019. The dataset is collected from Flixable which is a third-party Netflix search engine.\n",
        "\n",
        "See Kaggle page for more info: https://www.kaggle.com/shivamb/netflix-shows\n",
        "\n",
        "The data is available in the Canvas Module for **pandas** under the name `netflix_titles.csv`\n",
        "\n",
        "Load this data into `pandas` and use `index_col='show_id'`\n"
      ]
    },
    {
      "cell_type": "code",
      "metadata": {
        "id": "gU-ZRVuTj3CZ"
      },
      "source": [
        "import pandas as pd\n",
        "\n",
        "netflix = pd.read_csv('/content/drive/MyDrive/Data/netflix_titles.csv', index_col ='show_id')"
      ],
      "execution_count": 6,
      "outputs": []
    },
    {
      "cell_type": "code",
      "metadata": {
        "id": "0qQ0Yui-KX_e",
        "colab": {
          "base_uri": "https://localhost:8080/"
        },
        "outputId": "aebedc98-7ad6-4588-a804-01f29ef98aa0"
      },
      "source": [
        "# Write code to load data below\n",
        "type(netflix)"
      ],
      "execution_count": 7,
      "outputs": [
        {
          "output_type": "execute_result",
          "data": {
            "text/plain": [
              "pandas.core.frame.DataFrame"
            ]
          },
          "metadata": {},
          "execution_count": 7
        }
      ]
    },
    {
      "cell_type": "code",
      "metadata": {
        "colab": {
          "base_uri": "https://localhost:8080/"
        },
        "id": "i1Obsx8OWJ2r",
        "outputId": "eef8a051-6034-4c09-bb43-a9f6cbf48c96"
      },
      "source": [
        "from google.colab import drive\n",
        "drive.mount('/content/drive')"
      ],
      "execution_count": 8,
      "outputs": [
        {
          "output_type": "stream",
          "name": "stdout",
          "text": [
            "Drive already mounted at /content/drive; to attempt to forcibly remount, call drive.mount(\"/content/drive\", force_remount=True).\n"
          ]
        }
      ]
    },
    {
      "cell_type": "markdown",
      "metadata": {
        "id": "R0rq7c8vPTr1"
      },
      "source": [
        "## Section 1: Dataset Overview\n",
        "**2.5 points each (total 10 points)**\n",
        "\n",
        "Let's get an initial understanding of the data we are working with. Provide answers and code below.\n",
        "\n",
        "1.  How many rows and columns are in this dataset?\n",
        "2.  Provide a list of the column names\n",
        "3.  Print the **first 10 rows** of this dataset\n",
        "4.  Use `.info()` to understand where there may be null values in the data"
      ]
    },
    {
      "cell_type": "code",
      "metadata": {
        "id": "ZbuBMYFI2Oof",
        "colab": {
          "base_uri": "https://localhost:8080/"
        },
        "outputId": "9cd4dbf8-643c-462d-90de-f4b6280b5734"
      },
      "source": [
        "#1\n",
        "netflix.shape"
      ],
      "execution_count": 62,
      "outputs": [
        {
          "output_type": "execute_result",
          "data": {
            "text/plain": [
              "(7787, 12)"
            ]
          },
          "metadata": {},
          "execution_count": 62
        }
      ]
    },
    {
      "cell_type": "code",
      "metadata": {
        "id": "qC3r6Ofk3YAa",
        "colab": {
          "base_uri": "https://localhost:8080/"
        },
        "outputId": "ecdf847d-0ba4-4369-92f1-74e66d993534"
      },
      "source": [
        "#2\n",
        "netflix.columns"
      ],
      "execution_count": 63,
      "outputs": [
        {
          "output_type": "execute_result",
          "data": {
            "text/plain": [
              "Index(['type', 'title', 'director', 'cast', 'country', 'date_added',\n",
              "       'release_year', 'rating', 'duration', 'listed_in', 'description',\n",
              "       'is_produced_in_usa'],\n",
              "      dtype='object')"
            ]
          },
          "metadata": {},
          "execution_count": 63
        }
      ]
    },
    {
      "cell_type": "code",
      "metadata": {
        "id": "S_piilRyQBkN"
      },
      "source": [
        "#3\n",
        "netflix.head(10)"
      ],
      "execution_count": null,
      "outputs": []
    },
    {
      "cell_type": "code",
      "metadata": {
        "id": "gE5O6LiG326O"
      },
      "source": [
        "#4\n",
        "netflix.info()"
      ],
      "execution_count": null,
      "outputs": []
    },
    {
      "cell_type": "markdown",
      "metadata": {
        "id": "1KHOUpc8KURA"
      },
      "source": [
        "## Section 2:  Data Cleaning\n",
        "**5 points each (total 10 points)**\n",
        "\n",
        "Let's take some steps to improve the data set for analysis purposes.\n",
        "\n",
        "\n",
        "1.   There are NA/NaN values in `director`, `cast`, and `country`.  Let's replace these with the value `\"Unknown\"` using `fillna`\n",
        "2.   Create a new column `is_produced_in_usa` which is True if `country` contains the word `United States` and False otherwise.  (Hint: Sometimes `country` contains multiple countries separated by commas.  We want to be able to catch `United States` even if it's in this list with other countries also.\n",
        "\n",
        "***Challenge (not required for points)*** \n",
        "Make a new column called `duration_bucket`.  This column will bucket the values found in `duration`, similar to how we grouped values in HW1.  Examples of buckets might be `61-90 minutes`, `91-120 minutes`, `120+ minutes`, or `3+ seasons`.  To do this, I recommend creating a function that converts the value in `duration` to the `bucket_name`, then using the `pandas` `.apply()` function to the `duration` column to create a transformed column, which you can then insert into the dataframe.\n",
        "\n",
        "Reference: https://pandas.pydata.org/pandas-docs/stable/reference/api/pandas.Series.apply.html"
      ]
    },
    {
      "cell_type": "code",
      "metadata": {
        "colab": {
          "base_uri": "https://localhost:8080/"
        },
        "id": "T-yJqn4032NY",
        "outputId": "69ea1ca1-bc0e-4534-b09f-12abd7a43b7f"
      },
      "source": [
        "netflix.count()"
      ],
      "execution_count": 16,
      "outputs": [
        {
          "output_type": "execute_result",
          "data": {
            "text/plain": [
              "type                  7787\n",
              "title                 7787\n",
              "director              5398\n",
              "cast                  7069\n",
              "country               7280\n",
              "date_added            7777\n",
              "release_year          7787\n",
              "rating                7780\n",
              "duration              7787\n",
              "listed_in             7787\n",
              "description           7787\n",
              "is_produced_in_usa    7787\n",
              "dtype: int64"
            ]
          },
          "metadata": {},
          "execution_count": 16
        }
      ]
    },
    {
      "cell_type": "code",
      "metadata": {
        "id": "bAp-lMx84ywX"
      },
      "source": [
        "#1\n",
        "netflix.fillna(\"Unkown\", inplace=True)"
      ],
      "execution_count": 26,
      "outputs": []
    },
    {
      "cell_type": "code",
      "metadata": {
        "id": "fo4K1JIL5kmc"
      },
      "source": [
        "#2\n",
        "is_produced_in_usa = netflix.country == 'United States' \n",
        "netflix['is_produced_in_usa'] = is_produced_in_usa\n",
        "\n",
        "netflix.is_produced_in_usa"
      ],
      "execution_count": null,
      "outputs": []
    },
    {
      "cell_type": "code",
      "metadata": {
        "colab": {
          "base_uri": "https://localhost:8080/"
        },
        "id": "SdcGBfe94uO9",
        "outputId": "1f01e539-647e-4b58-c117-7b5f2051a0f5"
      },
      "source": [
        "usa_total = sum(is_produced_in_usa)\n",
        "print(usa_total)"
      ],
      "execution_count": 124,
      "outputs": [
        {
          "output_type": "stream",
          "name": "stdout",
          "text": [
            "2555\n"
          ]
        }
      ]
    },
    {
      "cell_type": "markdown",
      "metadata": {
        "id": "jmV9J2N-xjAW"
      },
      "source": [
        "## Section 3: Data Questions\n",
        "**10 points each (50 points total)**\n",
        "\n",
        "Explore the data set to answer the questions below.  In addition to providing the answer, please provide the code you used to answer each question.\n",
        "\n",
        "1.   What % of Netflix content is produced in the USA?  You can calculate the numerator and denominator separately.  (Hint: Use the new column you created in Section 1)\n",
        "2.   List all the **movies** directed by **M. Night Shyamalan** that are available on Netflix.\n",
        "3.   Which **TV Shows produced in Japan** that were released in **2006** are available on Netflix?\n",
        "4.   How many **movies** and how many **TV shows** (reported separately) did Netflix add in the **month of July 2019**?\n",
        "5.   List the Netflix content (movies/TV shows) about the FBI (`description` contains \"FBI\") chronologically by release year (most recent first)\n",
        "\n",
        "***Challenge (not required for points)*** \n",
        "\n",
        "What % of content on Netflix is added in the same year as it is released? Does this differ by movie vs TV show?\n",
        "\n",
        "\n"
      ]
    },
    {
      "cell_type": "code",
      "metadata": {
        "id": "waBZlXwXOwOE",
        "colab": {
          "base_uri": "https://localhost:8080/"
        },
        "outputId": "13421460-471a-4b76-8ff5-ceeb66045614"
      },
      "source": [
        "#1\n",
        "usa_percent = (usa_total / 7787)*100\n",
        "print(usa_percent)"
      ],
      "execution_count": 125,
      "outputs": [
        {
          "output_type": "stream",
          "name": "stdout",
          "text": [
            "32.81109541543598\n"
          ]
        }
      ]
    },
    {
      "cell_type": "code",
      "metadata": {
        "colab": {
          "base_uri": "https://localhost:8080/",
          "height": 312
        },
        "id": "DNd5eyJ66LAe",
        "outputId": "f6c0275f-8a0f-40d7-9ce7-d6de7a95de71"
      },
      "source": [
        "#2\n",
        "netflix.head()\n",
        "shyamalan = netflix.director == 'M. Night Shyamalan'\n",
        "netflix[shyamalan]"
      ],
      "execution_count": 126,
      "outputs": [
        {
          "output_type": "execute_result",
          "data": {
            "text/html": [
              "<div>\n",
              "<style scoped>\n",
              "    .dataframe tbody tr th:only-of-type {\n",
              "        vertical-align: middle;\n",
              "    }\n",
              "\n",
              "    .dataframe tbody tr th {\n",
              "        vertical-align: top;\n",
              "    }\n",
              "\n",
              "    .dataframe thead th {\n",
              "        text-align: right;\n",
              "    }\n",
              "</style>\n",
              "<table border=\"1\" class=\"dataframe\">\n",
              "  <thead>\n",
              "    <tr style=\"text-align: right;\">\n",
              "      <th></th>\n",
              "      <th>type</th>\n",
              "      <th>title</th>\n",
              "      <th>director</th>\n",
              "      <th>cast</th>\n",
              "      <th>country</th>\n",
              "      <th>date_added</th>\n",
              "      <th>release_year</th>\n",
              "      <th>rating</th>\n",
              "      <th>duration</th>\n",
              "      <th>listed_in</th>\n",
              "      <th>description</th>\n",
              "      <th>is_produced_in_usa</th>\n",
              "    </tr>\n",
              "    <tr>\n",
              "      <th>show_id</th>\n",
              "      <th></th>\n",
              "      <th></th>\n",
              "      <th></th>\n",
              "      <th></th>\n",
              "      <th></th>\n",
              "      <th></th>\n",
              "      <th></th>\n",
              "      <th></th>\n",
              "      <th></th>\n",
              "      <th></th>\n",
              "      <th></th>\n",
              "      <th></th>\n",
              "    </tr>\n",
              "  </thead>\n",
              "  <tbody>\n",
              "    <tr>\n",
              "      <th>s3517</th>\n",
              "      <td>Movie</td>\n",
              "      <td>Lady in the Water</td>\n",
              "      <td>M. Night Shyamalan</td>\n",
              "      <td>Paul Giamatti, Bryce Dallas Howard, Jeffrey Wr...</td>\n",
              "      <td>United States</td>\n",
              "      <td>July 1, 2019</td>\n",
              "      <td>2006</td>\n",
              "      <td>PG-13</td>\n",
              "      <td>110 min</td>\n",
              "      <td>Sci-Fi &amp; Fantasy, Thrillers</td>\n",
              "      <td>When an apartment building manager discovers a...</td>\n",
              "      <td>True</td>\n",
              "    </tr>\n",
              "    <tr>\n",
              "      <th>s6551</th>\n",
              "      <td>Movie</td>\n",
              "      <td>The Last Airbender</td>\n",
              "      <td>M. Night Shyamalan</td>\n",
              "      <td>Noah Ringer, Dev Patel, Nicola Peltz, Jackson ...</td>\n",
              "      <td>United States</td>\n",
              "      <td>April 8, 2020</td>\n",
              "      <td>2010</td>\n",
              "      <td>PG</td>\n",
              "      <td>104 min</td>\n",
              "      <td>Action &amp; Adventure, Children &amp; Family Movies, ...</td>\n",
              "      <td>In a world ravaged by the Fire nation's aggres...</td>\n",
              "      <td>True</td>\n",
              "    </tr>\n",
              "  </tbody>\n",
              "</table>\n",
              "</div>"
            ],
            "text/plain": [
              "          type  ... is_produced_in_usa\n",
              "show_id         ...                   \n",
              "s3517    Movie  ...               True\n",
              "s6551    Movie  ...               True\n",
              "\n",
              "[2 rows x 12 columns]"
            ]
          },
          "metadata": {},
          "execution_count": 126
        }
      ]
    },
    {
      "cell_type": "code",
      "metadata": {
        "id": "13YyQDDs7MRL"
      },
      "source": [
        "#3\n",
        "netflix.head()\n",
        "tv_shows = netflix.type == 'TV Show'\n",
        "in_japan = netflix.country =='Japan'\n",
        "in_year = netflix.release_year == 2006\n",
        "netflix[tv_shows & in_japan & in_year]"
      ],
      "execution_count": null,
      "outputs": []
    },
    {
      "cell_type": "code",
      "metadata": {
        "id": "xnYYjIbo9P-h"
      },
      "source": [
        "#4-TV Shows\n",
        "netflix.head()\n",
        "tv_shows = netflix.type == 'TV Show'\n",
        "begin_july_2019 = netflix.date_added >= 'July 1, 2019'\n",
        "end_july_2019 = netflix.date_added <= 'July 31, 2019'\n",
        "netflix[tv_shows & begin_july_2019 & end_july_2019].count(axis='columns')"
      ],
      "execution_count": null,
      "outputs": []
    },
    {
      "cell_type": "code",
      "metadata": {
        "id": "iW75qQrW-_yE"
      },
      "source": [
        "#4-Movies\n",
        "netflix.head()\n",
        "movie = netflix.type == 'Movie'\n",
        "begin_july_2019 = netflix.date_added >= 'July 1, 2019'\n",
        "end_july_2019 = netflix.date_added <= 'July 31, 2019'\n",
        "netflix[movie & begin_july_2019 & end_july_2019].count(axis='columns')"
      ],
      "execution_count": null,
      "outputs": []
    },
    {
      "cell_type": "code",
      "metadata": {
        "id": "Rn4kuMjM_oGw"
      },
      "source": [
        "#5\n",
        "fbi = netflix.description.str.contains(\"FBI\")\n",
        "netflix[fbi].sort_values(by=['release_year'], ascending=False)"
      ],
      "execution_count": null,
      "outputs": []
    },
    {
      "cell_type": "markdown",
      "metadata": {
        "id": "ziEIqkbkIUQr"
      },
      "source": [
        "## Section 4: Exploration\n",
        "**10 points each (30 points total)**\n",
        "\n",
        "Now choose **3** of your own questions/hypotheses that you would like to explore in this data set.  \n",
        "\n",
        "Write down your questions/hypotheses as well as your findings and code.  Questions should be of reasonable complexity (either involving data transformations like creating new columns, multiple conditions, or aggregations like `value_counts`)."
      ]
    },
    {
      "cell_type": "code",
      "metadata": {
        "id": "6mg-kCGVO4bd"
      },
      "source": [
        "#Question 1: What are a list of the foriegn horror movies Netflix offers?\n",
        "netflix.head()\n",
        "is_movie = netflix.type == 'Movie'\n",
        "is_horror = netflix.listed_in == 'Horror Movies'\n",
        "is_foriegn = netflix.is_produced_in_usa == False\n",
        "netflix[is_movie & is_horror & is_foriegn]"
      ],
      "execution_count": null,
      "outputs": []
    },
    {
      "cell_type": "code",
      "metadata": {
        "id": "pUGEkQwJO5dV",
        "colab": {
          "base_uri": "https://localhost:8080/"
        },
        "outputId": "e8c11553-521c-4b50-a8e8-2225257032fa"
      },
      "source": [
        "#Question 2: How many new (2019 and above) rated G movies does Netflix have?\n",
        "netflix.head()\n",
        "is_movie = netflix.type == 'Movie'\n",
        "is_ratedg = netflix.rating == \"G\"\n",
        "is_new = netflix.release_year >= 2019\n",
        "netflix[is_movie & is_new & is_under_hrhalf].value_counts()"
      ],
      "execution_count": 138,
      "outputs": [
        {
          "output_type": "execute_result",
          "data": {
            "text/plain": [
              "type   title                                     director                                          cast                                                                                                                                                                                                                                       country         date_added         release_year  rating  duration  listed_in                                               description                                                                                                                                              is_produced_in_usa\n",
              "Movie  Òlòtūré                                   Kenneth Gyang                                     Beverly Osu, Sharon Ooja, Omowunmi Dada, Pearl Okorie, Wofai Samuel, Ikechukwu Onunaku, Kemi Lala Akindoju, Blossom Chukwujekwu, Adebukola Oladipupo, Omoni Oboli, Segun Arinze, Ada Ameh, Sambasa Nzeribe, Patrick Doyle, Gregory Ojefua  Nigeria         October 2, 2020    2020          TV-MA   107 min   Dramas, International Movies                            In Lagos, a journalist goes undercover as a prostitute to expose human trafficking. What she finds is a world of exploited women and ruthless violence.  False                 1\n",
              "       Go Karts                                  Owen Trevor                                       William Lodder, Anastasia Bampos, Darius Amarfio-Jefferson, Richard Roxburgh, Frances O'Connor, Dan Wyllie, Cooper van Grootel, Damian de Montemas, Adam T. Perkins                                                                        Australia       March 13, 2020     2020          TV-PG   103 min   Children & Family Movies, Dramas                        A fearless teen leans into the rush of high-speed go-kart racing, backed by good friends — and a surly ex-driver who becomes his coach.                  False                 1\n",
              "       Gunjan Saxena: The Kargil Girl            Sharan Sharma                                     Janhvi Kapoor, Pankaj Tripathi, Angad Bedi, Viineet Kumar, Manav Vij, Ayesha Raza Mishra                                                                                                                                                   India           August 12, 2020    2020          TV-14   113 min   Action & Adventure, Dramas, International Movies        Flight Lieutenant Gunjan Saxena makes history in her journey from aspiring aviator to India’s first female combat pilot in the Kargil War.               False                 1\n",
              "       Guna 369                                  Arjun Jandyala                                    Adithya Menon, Kartikeya Gummakonda, Anagha LK                                                                                                                                                                                             India           November 15, 2019  2019          TV-MA   143 min   Action & Adventure, Dramas, International Movies        A pampered but kind-hearted average joe ditches his romancing and peacekeeping ways when he’s framed for a murder he didn’t commit.                      False                 1\n",
              "       Guilty                                    Ruchi Narain                                      Kiara Advani, Akansha Ranjan Kapoor, Gurfateh Pirzada, Taher Shabbir, Niki Walia, Manu Rishi Chadha, Dalip Tahil, Kunal Vijaykar                                                                                                           India           March 6, 2020      2020          TV-MA   120 min   Dramas, International Movies                            When a college heartthrob is accused of rape by a less popular student, his girlfriend navigates various versions of the story in search of the truth.   False                 1\n",
              "                                                                                                                                                                                                                                                                                                                                                                                                                                                                                                                                                                                                                                                       ..\n",
              "       Rob Schneider: Asian Momma, Mexican Kids  Tyler Spindel                                     Rob Schneider                                                                                                                                                                                                                              United States   August 11, 2020    2020          TV-MA   44 min    Stand-Up Comedy                                         Former \"Saturday Night Live\" star Rob Schneider returns to the stage and shares his take on life, love and dinosaur dreams in this stand-up special.     True                  1\n",
              "       River, el más grande siempre              Marcelo Altmark, Mariano Mucci, Luis A. Scalella  Unkown                                                                                                                                                                                                                                     Argentina       July 5, 2019       2019          TV-G    105 min   Documentaries, International Movies, Sports Movies      Experience the highlights of Argentine soccer team Club Atlético River Plate's long history, from its early development to its major victories.          False                 1\n",
              "       Rising Phoenix                            Unkown                                            Unkown                                                                                                                                                                                                                                     United Kingdom  August 26, 2020    2020          PG-13   107 min   Documentaries, International Movies, Sports Movies      Elite athletes and insiders reflect on the Paralympic Games and examine how they impact a global understanding of disability, diversity and excellence.  False                 1\n",
              "       Riding Faith                              Paco Aguilar                                      John Schneider, T.C. Stallings, Grace Van Dien, Marisa Brown, Jimmy Deshler                                                                                                                                                                United States   June 17, 2020      2020          TV-PG   81 min    Children & Family Movies, Dramas, Faith & Spirituality  Following her father's death, a young woman struggles to help her mother keep the family ranch afloat while preserving a special bond with her horse.    True                  1\n",
              "       #FriendButMarried 2                       Rako Prijanto                                     Adipati Dolken, Mawar de Jongh, Sari Nila, Vonny Cornellya, Clay Gribble, Ivan Leonardy, Sarah Sechan, Jourdy Pranata                                                                                                                      Indonesia       June 28, 2020      2020          TV-G    104 min   Dramas, International Movies, Romantic Movies           As Ayu and Ditto finally transition from best friends to newlyweds, a quick pregnancy creates uncertainty for the future of their young marriage.        False                 1\n",
              "Length: 812, dtype: int64"
            ]
          },
          "metadata": {},
          "execution_count": 138
        }
      ]
    },
    {
      "cell_type": "code",
      "metadata": {
        "colab": {
          "base_uri": "https://localhost:8080/"
        },
        "id": "swaPTdwqIRbC",
        "outputId": "a1c1c9fb-c7bb-40b1-ee4b-2b9ce63c5078"
      },
      "source": [
        "#Hypothesis: I believe Netflix offers more Movies than TV Shows.\n",
        "netflix.head()\n",
        "netflix.type.value_counts()"
      ],
      "execution_count": 69,
      "outputs": [
        {
          "output_type": "execute_result",
          "data": {
            "text/plain": [
              "Movie      5377\n",
              "TV Show    2410\n",
              "Name: type, dtype: int64"
            ]
          },
          "metadata": {},
          "execution_count": 69
        }
      ]
    }
  ]
}
